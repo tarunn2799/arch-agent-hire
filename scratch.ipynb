{
 "cells": [
  {
   "cell_type": "code",
   "execution_count": null,
   "metadata": {},
   "outputs": [],
   "source": [
    "import json\n",
    "import os\n",
    "import requests\n",
    "from pydantic import BaseModel, Field\n",
    "from typing import Optional\n",
    "from dotenv import load_dotenv\n",
    "from rich import print\n",
    "from litellm import completion\n",
    "from arch_prompts import PROMPTS\n",
    "\n",
    "\n",
    "load_dotenv('.env')\n",
    "pplx_api_key = os.environ['PERPLEXITY_API_KEY']\n",
    "gemini_api_key = os.environ['GEMINI_API_KEY']"
   ]
  },
  {
   "cell_type": "code",
   "execution_count": null,
   "metadata": {},
   "outputs": [],
   "source": []
  },
  {
   "cell_type": "code",
   "execution_count": null,
   "metadata": {},
   "outputs": [],
   "source": [
    "class Agent:\n",
    "    def __init__(self, sys_prompt: str, model: str = \"gpt-4o\"):\n",
    "        self.sys_prompt = sys_prompt\n",
    "        self.messages = [{\"role\": \"system\", \"content\": sys_prompt}]\n",
    "        self.model = model\n",
    "\n",
    "    def llm_call(self, prompt: str, response_format = None) -> str:\n",
    "        self.messages.append({\"role\": \"user\", \"content\": prompt})\n",
    "        try:\n",
    "            response = completion(\n",
    "                model=self.model,\n",
    "                messages=self.messages,\n",
    "                temperature=0.1,\n",
    "                response_format=response_format\n",
    "            )\n",
    "            response_content = response.choices[0].message.content\n",
    "            self.messages.append({\"role\": \"assistant\", \"content\": response_content})\n",
    "            return response_content\n",
    "        except Exception as e:\n",
    "            print(f\"LLM call failed: {e}\")\n",
    "            return \"\""
   ]
  },
  {
   "cell_type": "markdown",
   "metadata": {},
   "source": [
    "#### Input"
   ]
  },
  {
   "cell_type": "code",
   "execution_count": null,
   "metadata": {},
   "outputs": [],
   "source": [
    "firm_name = \"Ware Malcomb\"\n",
    "resume = \"\"\n",
    "portfolio = \"\""
   ]
  },
  {
   "cell_type": "markdown",
   "metadata": {},
   "source": [
    "#### Fetch PPLX Email and Description"
   ]
  },
  {
   "cell_type": "code",
   "execution_count": null,
   "metadata": {},
   "outputs": [],
   "source": [
    "url = \"https://api.perplexity.ai/chat/completions\"\n",
    "headers = {\"Authorization\": f\"Bearer {pplx_api_key}\"}"
   ]
  },
  {
   "cell_type": "code",
   "execution_count": null,
   "metadata": {},
   "outputs": [
    {
     "name": "stdout",
     "output_type": "stream",
     "text": [
      "<think>\n",
      "Okay, I need to extract information about Ware Malcomb based on the provided search results. Let me start by going through each source to gather relevant details.\n",
      "\n",
      "First, from source [1], Ware Malcomb is described as a dynamic commercial real estate design firm founded in 1972. They offer architecture, planning, interior design, and civil engineering services. Their approach is multidisciplinary and focuses on innovative solutions. Leadership includes CEO Ken Wink and President Jay Todisco.\n",
      "\n",
      "Source [2] mentions their expansion into multi-family housing and use of TestFit software to save time on site planning. They saved $200k-$300k in non-billable hours by automating site feasibility studies. This shows their adoption of technology for efficiency.\n",
      "\n",
      "Source [3] provides financials: $103.8M revenue, 983 employees, and locations across the Americas. They're recognized in industry rankings like Engineering News-Record’s Top 500. Their specialties include commercial office, industrial, healthcare, and retail projects.\n",
      "\n",
      "Source [4] lists their licensed states across the U.S., indicating a broad operational reach. Source [5] talks about their company culture, benefits, and community involvement through programs like WM Community and WM Active. They focus on employee development and philanthropy.\n",
      "\n",
      "Source [6] from their website lists project types such as multifamily, industrial, office, and science & technology. Notable projects include Lenovo's headquarters and Riverbend Distribution Center. Their services include sustainability and workplace strategy.\n",
      "\n",
      "Source [7] is about their merchandise store, which isn't relevant here. Source [8] mentions a specific construction project in San Diego, but it's a single project and not notable enough compared to others listed.\n",
      "\n",
      "Putting this together: Ware Malcomb is a global firm with a focus on commercial real estate, offering diverse services. They emphasize innovation, efficiency through technology like TestFit, and have notable projects in various sectors. Their design philosophy centers on client service and multidisciplinary approaches. They also have strong community involvement and employee development programs.\n",
      "</think>\n",
      "\n",
      "Ware Malcomb is a global commercial real estate design firm established in 1972, offering integrated architecture, interior design, civil engineering, branding, and building measurement services[1][3]. Headquartered in San Diego with over 28 offices across the Americas[2][3], the firm employs 983 professionals[3] and generates $103.8M in annual revenue[3].\n",
      "\n",
      "**Focus Areas & Specializations**  \n",
      "- **Market Sectors**: Industrial (including cold storage), office/corporate, multifamily housing, healthcare, retail, science & technology[1][6]  \n",
      "- **Core Services**:  \n",
      "  - Site feasibility studies using AI-powered tools like TestFit for 65% faster planning[2]  \n",
      "  - Sustainable design solutions[6]  \n",
      "  - Workplace strategy and space optimization[6]  \n",
      "  - Brand integration through environmental graphics[6]  \n",
      "\n",
      "**Design Philosophy**  \n",
      "- Combines innovation with practical solutions emphasizing long-term real estate value[1][6]  \n",
      "- Multidisciplinary approach integrating architecture with civil engineering and branding[1][3]  \n",
      "- Technology-driven processes including BIM workflows and co-authoring platforms[2][6]  \n",
      "\n",
      "**Notable Projects**  \n",
      "- Riverbend Multistorey Distribution Center (Burnaby)[6]  \n",
      "- Henkel North American Beauty Hair Care Headquarters (Culver City)[6]  \n",
      "- Lenovo's Mexico City corporate campus[6]  \n",
      "\n",
      "**Operational Approach**  \n",
      "- Maintains licensure across all 50 U.S. states + DC for architectural/engineering services[4]  \n",
      "- Implements hybrid work models with intercompany transfer opportunities[5]  \n",
      "- Prioritizes community engagement through WM Community program supporting United Way, Boys & Girls Clubs, and cancer research initiatives[5][6]  \n",
      "\n",
      "The firm combines technical expertise in building measurement ($5M funding for R&D)[3] with leadership development programs like WM Leadership Academy to foster innovation while maintaining consistent service quality across global offices[1][5].\n"
     ]
    }
   ],
   "source": [
    "from pydantic import BaseModel, Field\n",
    "from typing import Optional\n",
    "    \n",
    "\n",
    "class ArchFirm(BaseModel):\n",
    "    recruiting_email: Optional[str] = Field(None, description=\"What is the recruiting or careers contact email address listed on the firm's website or careers page?\")\n",
    "    firm_description: Optional[str] = Field(None, description=\"What is the detailed description of the architecture firm, including their focus areas, specializations, notable projects, design philosophy, and overall approach to architecture?\")\n",
    "\n",
    "payload = {\n",
    "    \"model\": \"sonar-reasoning-pro\",\n",
    "    \"messages\": [\n",
    "        {\"role\": \"system\", \"content\": \"For a given architecture firm, your task is to extract a complete description about the firm including their focus areas, specializations, notable projects, design philosophy, and overall approach to architecture? Be precise and concise.\"},\n",
    "        {\"role\": \"user\", \"content\": (\n",
    "            f\"Please extract info for : {firm_name}\"\n",
    "\n",
    "        )},\n",
    "    ],\n",
    "}\n",
    "\n",
    "\n",
    "response = requests.post(url, headers=headers, json=payload).json()\n",
    "# print(response[\"choices\"][0][\"message\"][\"content\"])\n",
    "\n",
    "firm_desc = response[\"choices\"][0][\"message\"][\"content\"].split('</think>')[-1]\n",
    "firm_desc_reasoning = recr_email_reasoning = response['choices'][0]['message']['content'].split('<think>')[1].split('</think>')[0]\n",
    "print(firm_desc)\n"
   ]
  },
  {
   "cell_type": "code",
   "execution_count": null,
   "metadata": {},
   "outputs": [
    {
     "data": {
      "text/plain": [
       "\"\\n\\nWare Malcomb is a global commercial real estate design firm established in 1972, offering integrated architecture, interior design, civil engineering, branding, and building measurement services[1][3]. Headquartered in San Diego with over 28 offices across the Americas[2][3], the firm employs 983 professionals[3] and generates $103.8M in annual revenue[3].\\n\\n**Focus Areas & Specializations**  \\n- **Market Sectors**: Industrial (including cold storage), office/corporate, multifamily housing, healthcare, retail, science & technology[1][6]  \\n- **Core Services**:  \\n  - Site feasibility studies using AI-powered tools like TestFit for 65% faster planning[2]  \\n  - Sustainable design solutions[6]  \\n  - Workplace strategy and space optimization[6]  \\n  - Brand integration through environmental graphics[6]  \\n\\n**Design Philosophy**  \\n- Combines innovation with practical solutions emphasizing long-term real estate value[1][6]  \\n- Multidisciplinary approach integrating architecture with civil engineering and branding[1][3]  \\n- Technology-driven processes including BIM workflows and co-authoring platforms[2][6]  \\n\\n**Notable Projects**  \\n- Riverbend Multistorey Distribution Center (Burnaby)[6]  \\n- Henkel North American Beauty Hair Care Headquarters (Culver City)[6]  \\n- Lenovo's Mexico City corporate campus[6]  \\n\\n**Operational Approach**  \\n- Maintains licensure across all 50 U.S. states + DC for architectural/engineering services[4]  \\n- Implements hybrid work models with intercompany transfer opportunities[5]  \\n- Prioritizes community engagement through WM Community program supporting United Way, Boys & Girls Clubs, and cancer research initiatives[5][6]  \\n\\nThe firm combines technical expertise in building measurement ($5M funding for R&D)[3] with leadership development programs like WM Leadership Academy to foster innovation while maintaining consistent service quality across global offices[1][5].\""
      ]
     },
     "metadata": {},
     "output_type": "display_data"
    }
   ],
   "source": [
    "firm_desc"
   ]
  },
  {
   "cell_type": "code",
   "execution_count": null,
   "metadata": {},
   "outputs": [],
   "source": [
    "class ArchFirm(BaseModel):\n",
    "    recruiting_email: Optional[str] = Field(None, description=\"What is the recruiting or careers contact email address listed on the firm's website or careers page?\")\n",
    "    # firm_description: Optional[str] = Field(None, description=\"What is the detailed description of the architecture firm, including their focus areas, specializations, notable projects, design philosophy, and overall approach to architecture?\")\n",
    "\n",
    "payload = {\n",
    "    \"model\": \"sonar-reasoning-pro\",\n",
    "    \"messages\": [\n",
    "        {\"role\": \"system\", \"content\": \"For a given architecture firm, your task is to extract their recruiting email address as listed on their careers/contact page. Be precise. You must ONLY output a JSON object with the result.\"},\n",
    "        {\"role\": \"user\", \"content\": (\n",
    "            f\"Recruiting email for : {firm_name}\"\n",
    "            \"Please output a JSON object containing the following field: \"\n",
    "            \"recruiting_email\"\n",
    "        )},\n",
    "    ],\n",
    "    \"response_format\": {\n",
    "\t\t    \"type\": \"json_schema\",\n",
    "        \"json_schema\": {\"schema\": ArchFirm.model_json_schema()},\n",
    "    },\n",
    "}\n",
    "\n",
    "\n",
    "response = requests.post(url, headers=headers, json=payload).json()\n",
    "# print(response[\"choices\"][0][\"message\"][\"content\"])"
   ]
  },
  {
   "cell_type": "code",
   "execution_count": null,
   "metadata": {},
   "outputs": [
    {
     "name": "stdout",
     "output_type": "stream",
     "text": [
      "{'recruiting_email': 'jkiddle@waremalcomb.com'}\n"
     ]
    }
   ],
   "source": [
    "json_str = response['choices'][0]['message']['content'].split('```json')[-1].split('```')[0].strip()\n",
    "recruiting_email = json.loads(json_str)\n",
    "recr_email_reasoning = response['choices'][0]['message']['content'].split('<think>')[1].split('</think>')[0]\n"
   ]
  },
  {
   "cell_type": "markdown",
   "metadata": {},
   "source": [
    "#### (interm) generate pointers from resume + portfolio + firm description"
   ]
  },
  {
   "cell_type": "code",
   "execution_count": null,
   "metadata": {},
   "outputs": [],
   "source": [
    "pointers_agent = Agent(sys_prompt= PROMPTS['generate_pointers'], model = \"gemini-2.0-flash\")\n",
    "\n",
    "prompt = f\"\"\"\n",
    "For the given architecture firm, and my resume and portfolio details, generate a detailed bullet-point list of all the key alignment areas that should be mentioned in a personalized email to the recruiter.\n",
    "Firm Details: \n",
    "{firm_desc}\n",
    "\n",
    "Resume: \n",
    "{resume}\n",
    "\n",
    "Portfolio details:\n",
    "{portfolio}\n",
    "\"\"\"\n",
    "\n",
    "email_pointers = pointers_agent.llm_call(prompt)"
   ]
  },
  {
   "cell_type": "markdown",
   "metadata": {},
   "source": [
    "#### Write email"
   ]
  },
  {
   "cell_type": "code",
   "execution_count": null,
   "metadata": {},
   "outputs": [
    {
     "data": {
      "text/plain": [
       "dict_keys(['generate_pointers', 'write_email', 'write_cover_letter', 'review_email'])"
      ]
     },
     "metadata": {},
     "output_type": "display_data"
    }
   ],
   "source": [
    "PROMPTS.keys()"
   ]
  },
  {
   "cell_type": "code",
   "execution_count": null,
   "metadata": {},
   "outputs": [],
   "source": [
    "email_agent = Agent(sys_prompt= PROMPTS['write_email)'], model = \"gemini-2.0-flash\")\n",
    "\n",
    "prompt = f\"\"\"\n",
    "Using the pointers provided and my resume as context, write a concise, personalized email to a recruiter at an architectural firm for an entry-level position. \n",
    "\n",
    "\n",
    "Pointers\n",
    "{email_pointers}\n",
    "\n",
    "Resume: \n",
    "{resume}\n",
    "\"\"\"\n",
    "\n",
    "email_draft = email_agent.llm_call(prompt)"
   ]
  },
  {
   "cell_type": "markdown",
   "metadata": {},
   "source": [
    "#### Write Cover letter"
   ]
  },
  {
   "cell_type": "code",
   "execution_count": null,
   "metadata": {},
   "outputs": [
    {
     "ename": "KeyError",
     "evalue": "'write_cover_letter)'",
     "output_type": "error",
     "traceback": [
      "\u001b[0;31m---------------------------------------------------------------------------\u001b[0m\n",
      "\u001b[0;31mKeyError\u001b[0m                                  Traceback (most recent call last)\n",
      "Cell \u001b[0;32mIn[36], line 1\u001b[0m\n",
      "\u001b[0;32m----> 1\u001b[0m cl_agent \u001b[38;5;241m=\u001b[39m Agent(sys_prompt\u001b[38;5;241m=\u001b[39m \u001b[43mPROMPTS\u001b[49m\u001b[43m[\u001b[49m\u001b[38;5;124;43m'\u001b[39;49m\u001b[38;5;124;43mwrite_cover_letter)\u001b[39;49m\u001b[38;5;124;43m'\u001b[39;49m\u001b[43m]\u001b[49m, model \u001b[38;5;241m=\u001b[39m \u001b[38;5;124m\"\u001b[39m\u001b[38;5;124mgemini-2.0-flash\u001b[39m\u001b[38;5;124m\"\u001b[39m)\n",
      "\u001b[1;32m      3\u001b[0m prompt \u001b[38;5;241m=\u001b[39m \u001b[38;5;124mf\u001b[39m\u001b[38;5;124m\"\"\"\u001b[39m\n",
      "\u001b[1;32m      4\u001b[0m \u001b[38;5;124mUsing the job description, personalized pointers provided, and my resume as context, write the perfect cover letter for a candidate applying to an architectural firm. If no job description is provided, just write a generic cover letter showing my education, professional and technical background and alignment with the firm for opportunities. \u001b[39m\n",
      "\u001b[1;32m      5\u001b[0m \n",
      "\u001b[0;32m   (...)\u001b[0m\n",
      "\u001b[1;32m     12\u001b[0m \n",
      "\u001b[1;32m     13\u001b[0m \u001b[38;5;124m\"\"\"\u001b[39m\n",
      "\u001b[1;32m     15\u001b[0m cl_draft \u001b[38;5;241m=\u001b[39m cl_agent\u001b[38;5;241m.\u001b[39mllm_call(prompt)\n",
      "\n",
      "\u001b[0;31mKeyError\u001b[0m: 'write_cover_letter)'"
     ]
    }
   ],
   "source": [
    "cl_agent = Agent(sys_prompt= PROMPTS['write_cover_letter'], model = \"gemini-2.0-flash\")\n",
    "\n",
    "job_description = \"\"\n",
    "\n",
    "prompt = f\"\"\"\n",
    "Using the job description, personalized pointers provided, and my resume as context, write the perfect cover letter for a candidate applying to an architectural firm. If no job description is provided, just write a generic cover letter showing my education, professional and technical background and alignment with the firm for opportunities. \n",
    "\n",
    "Job Description:\n",
    "{job_description}\n",
    "\n",
    "Pointers\n",
    "{email_pointers}\n",
    "\n",
    "Resume: \n",
    "{resume}\n",
    "\n",
    "\n",
    "\"\"\"\n",
    "\n",
    "cl_draft = cl_agent.llm_call(prompt)"
   ]
  },
  {
   "cell_type": "code",
   "execution_count": 1,
   "metadata": {},
   "outputs": [],
   "source": [
    "from gspread_utils import *"
   ]
  },
  {
   "cell_type": "code",
   "execution_count": 4,
   "metadata": {},
   "outputs": [],
   "source": [
    "x = GSpreadUtils(credentials_file='/Users/tarunnv/Documents/bp-ai-gsheet-80764f1a817f.json')\n",
    "x.open_by_key('1pRhTtAB3AM1qHQMhdJvBncyAAzYvGeD2N94qScftCZE')\n",
    "\n",
    "records = x.get_all_records('arch_firms')"
   ]
  },
  {
   "cell_type": "code",
   "execution_count": 15,
   "metadata": {},
   "outputs": [
    {
     "data": {
      "text/plain": [
       "{'spreadsheetId': '1pRhTtAB3AM1qHQMhdJvBncyAAzYvGeD2N94qScftCZE',\n",
       " 'tableRange': 'arch_firms!A1:D3',\n",
       " 'updates': {'spreadsheetId': '1pRhTtAB3AM1qHQMhdJvBncyAAzYvGeD2N94qScftCZE',\n",
       "  'updatedRange': 'arch_firms!A4:D4',\n",
       "  'updatedRows': 1,\n",
       "  'updatedColumns': 4,\n",
       "  'updatedCells': 4}}"
      ]
     },
     "execution_count": 15,
     "metadata": {},
     "output_type": "execute_result"
    }
   ],
   "source": [
    "x.sh.worksheet('arch_firms').append_row([1, 2, 3, 5])"
   ]
  },
  {
   "cell_type": "code",
   "execution_count": 7,
   "metadata": {},
   "outputs": [
    {
     "data": {
      "text/plain": [
       "[<Worksheet 'arch_firms' id:0>]"
      ]
     },
     "execution_count": 7,
     "metadata": {},
     "output_type": "execute_result"
    }
   ],
   "source": [
    "x.sh.worksheets()"
   ]
  }
 ],
 "metadata": {
  "kernelspec": {
   "display_name": "uns",
   "language": "python",
   "name": "python3"
  },
  "language_info": {
   "codemirror_mode": {
    "name": "ipython",
    "version": 3
   },
   "file_extension": ".py",
   "mimetype": "text/x-python",
   "name": "python",
   "nbconvert_exporter": "python",
   "pygments_lexer": "ipython3",
   "version": "3.11.10"
  }
 },
 "nbformat": 4,
 "nbformat_minor": 2
}
